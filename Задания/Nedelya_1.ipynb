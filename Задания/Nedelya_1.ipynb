{
 "cells": [
  {
   "cell_type": "markdown",
   "id": "excellent-christopher",
   "metadata": {},
   "source": [
    "# Неделя 1"
   ]
  },
  {
   "cell_type": "markdown",
   "id": "changing-confirmation",
   "metadata": {},
   "source": [
    "## Задание 1. Ужасная тригонометрия"
   ]
  },
  {
   "cell_type": "markdown",
   "id": "hundred-guitar",
   "metadata": {},
   "source": [
    "Написать функцию ```terribleTrigonometry```, которая вычисляет ```n``` распределенных точек на единичной окружности с постоянным угловым шагом.\n",
    "\n",
    "Сигнатура функции:\n",
    "\n",
    "\n",
    "```struct Point {double x; double y;};```\n",
    "\n",
    "```std::vector<Point> terribleTrigonometry(unsigned int n);```\n",
    "\n",
    "Пример работы функции:\n",
    "\n",
    "* ``` n = 0 ```, Результат: {}\n",
    "* ``` n = 1 ```, Результат: {{1, 0}}\n",
    "* ``` n = 2 ```, Результат: {{1, 0}, {-1, 0}}\n",
    "* ``` n = 4 ```, Результат: {{1, 0}, {0, 1}, {-1, 0}, {0, -1}}\n",
    "\n",
    "Внимание! К функции предъявляются строгие требования по времени исполнения! Пишите код так, чтобы он работал быстро!\n",
    "\n",
    "\n"
   ]
  },
  {
   "cell_type": "markdown",
   "id": "intended-distribution",
   "metadata": {},
   "source": [
    "## Задание 2. \"Как-бы\" программирование "
   ]
  },
  {
   "cell_type": "markdown",
   "id": "burning-housing",
   "metadata": {},
   "source": [
    "Напишите шаблонную функцию, которая считает факториал числа в compile-time. Сигнатура функции:\n",
    "\n",
    "```template<unsigned int N>```\n",
    "\n",
    "```constexpr unsigned int factorial()```\n",
    "\n",
    "Пример работы функции:\n",
    "\n",
    "* ```factorail<0>()``` это 1\n",
    "* ```factorail<1>()``` это 1\n",
    "* ```factorail<3>()``` это 6"
   ]
  },
  {
   "cell_type": "markdown",
   "id": "accepted-drive",
   "metadata": {},
   "source": [
    "## Задание 3. Введение в ООП"
   ]
  },
  {
   "cell_type": "markdown",
   "id": "ancient-conflict",
   "metadata": {},
   "source": [
    "Написать шаблонный класс геометрического вектора. Предусмотреть 2 шаблонных параметра:\n",
    "* Параметр типа\n",
    "* Параметра размера\n",
    "\n",
    "Замечание. Если параметр размера равен -1, то память выделяется динамически.\n",
    "\n",
    "Реализовать сложения, вычистания, умножения на числа, операторы сравнения, приравнивания. Для динамических векторов реализовать изменение размера."
   ]
  }
 ],
 "metadata": {
  "kernelspec": {
   "display_name": "Python 3",
   "language": "python",
   "name": "python3"
  },
  "language_info": {
   "codemirror_mode": {
    "name": "ipython",
    "version": 3
   },
   "file_extension": ".py",
   "mimetype": "text/x-python",
   "name": "python",
   "nbconvert_exporter": "python",
   "pygments_lexer": "ipython3",
   "version": "3.8.10"
  }
 },
 "nbformat": 4,
 "nbformat_minor": 5
}
